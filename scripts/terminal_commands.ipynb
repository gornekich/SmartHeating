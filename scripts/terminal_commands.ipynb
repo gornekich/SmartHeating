{
 "cells": [
  {
   "cell_type": "code",
   "execution_count": 2,
   "metadata": {},
   "outputs": [],
   "source": [
    "import serial\n",
    "import array\n",
    "import time\n",
    "import binascii\n",
    "import sys\n",
    "import numpy as np\n",
    "import datetime\n",
    "\n",
    "from matplotlib import pyplot as plt\n",
    "\n",
    "import struct\n",
    "\n",
    "# Change your usb name here\n",
    "ser = serial.Serial('/dev/tty.SLAB_USBtoUART', 115200, timeout=0.1)"
   ]
  },
  {
   "cell_type": "code",
   "execution_count": 123,
   "metadata": {},
   "outputs": [
    {
     "name": "stdout",
     "output_type": "stream",
     "text": [
      "b'OK\\x00'\n"
     ]
    }
   ],
   "source": [
    "# SET RTC\n",
    "currentDT = datetime.datetime.now()\n",
    "year_l = currentDT.year & 0xff\n",
    "year_h = (currentDT.year >> 8) & 0xff\n",
    "ser.write(bytearray([0x02, year_l, year_h, currentDT.month, currentDT.day,\n",
    "                     currentDT.hour, currentDT.minute, currentDT.second]))\n",
    "string = ser.read(10)\n",
    "print(string)"
   ]
  },
  {
   "cell_type": "code",
   "execution_count": 133,
   "metadata": {},
   "outputs": [
    {
     "name": "stdout",
     "output_type": "stream",
     "text": [
      "2019-06-14 13:25:55.628004\n"
     ]
    }
   ],
   "source": [
    "print(currentDT)"
   ]
  }
 ],
 "metadata": {
  "kernelspec": {
   "display_name": "Python 3",
   "language": "python",
   "name": "python3"
  },
  "language_info": {
   "codemirror_mode": {
    "name": "ipython",
    "version": 3
   },
   "file_extension": ".py",
   "mimetype": "text/x-python",
   "name": "python",
   "nbconvert_exporter": "python",
   "pygments_lexer": "ipython3",
   "version": "3.7.0"
  }
 },
 "nbformat": 4,
 "nbformat_minor": 2
}
