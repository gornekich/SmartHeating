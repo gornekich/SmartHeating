{
 "cells": [
  {
   "cell_type": "code",
   "execution_count": 1391,
   "metadata": {},
   "outputs": [],
   "source": [
    "import serial\n",
    "import array\n",
    "import time\n",
    "import binascii\n",
    "import sys\n",
    "import numpy as np\n",
    "import datetime\n",
    "from matplotlib import pyplot as plt\n",
    "import struct\n",
    "\n",
    "BUFFER_LENGTH = 8\n",
    "\n",
    "# Change your usb name here\n",
    "ser = serial.Serial('/dev/tty.SLAB_USBtoUART', 115200, timeout=0.1)"
   ]
  },
  {
   "cell_type": "code",
   "execution_count": 1392,
   "metadata": {},
   "outputs": [],
   "source": [
    "# Padding 0 for 8 bytes function\n",
    "def padding(btarray):\n",
    "    for i in range(BUFFER_LENGTH - len(btarray)):\n",
    "        btarray.extend([0x00])\n",
    "    return btarray"
   ]
  },
  {
   "cell_type": "code",
   "execution_count": 1310,
   "metadata": {},
   "outputs": [
    {
     "name": "stdout",
     "output_type": "stream",
     "text": [
      "[1, 2, 0, 0, 0, 0, 0, 0]\n"
     ]
    }
   ],
   "source": [
    "btarray = [0x01, 0x02]\n",
    "print(padding(btarray))"
   ]
  },
  {
   "cell_type": "code",
   "execution_count": 1305,
   "metadata": {},
   "outputs": [
    {
     "name": "stdout",
     "output_type": "stream",
     "text": [
      "bytearray(b'\\x02\\x00\\x00\\x00\\x00\\x00\\x00\\x00')\n"
     ]
    }
   ],
   "source": [
    "# Read rx buff\n",
    "btarr = bytearray([0x02])\n",
    "btarr = padding(btarr)\n",
    "print(btarr)\n",
    "\n",
    "ser.write(btarr)\n",
    "string = ser.read(100)\n",
    "if len(string) != 0:\n",
    "    print(struct.unpack('bbbb', string))"
   ]
  },
  {
   "cell_type": "code",
   "execution_count": 1393,
   "metadata": {},
   "outputs": [
    {
     "name": "stdout",
     "output_type": "stream",
     "text": [
      "bytearray(b'\\x03\\x00\\x00\\x00\\x00\\x00\\x00\\x00')\n",
      "b'OK\\x00'\n"
     ]
    }
   ],
   "source": [
    "# Calibrate\n",
    "btarr = bytearray([0x03])\n",
    "btarr = padding(btarr)\n",
    "print(btarr)\n",
    "\n",
    "ser.write(btarr)\n",
    "string = ser.read(100)\n",
    "print(string)"
   ]
  },
  {
   "cell_type": "code",
   "execution_count": 1382,
   "metadata": {},
   "outputs": [
    {
     "name": "stdout",
     "output_type": "stream",
     "text": [
      "bytearray(b'\\x04\\x00\\x00\\x00\\x00\\x00\\x00\\x00')\n",
      "b'\\xff\\xff\\xff\\x7f\\x00\\x00\\x00\\x80'\n"
     ]
    }
   ],
   "source": [
    "# Get limits\n",
    "btarr = bytearray([0x04])\n",
    "btarr = padding(btarr)\n",
    "print(btarr)\n",
    "\n",
    "ser.write(btarr)\n",
    "string = ser.read(100)\n",
    "print(string)\n",
    "# if len(string) != 0:\n",
    "#     print(struct.unpack('bbbb', string))"
   ]
  },
  {
   "cell_type": "code",
   "execution_count": 1366,
   "metadata": {},
   "outputs": [
    {
     "name": "stdout",
     "output_type": "stream",
     "text": [
      "bytearray(b'\\x05\\x00\\x00\\x00\\x00\\x00\\x00\\x00')\n",
      "b''\n"
     ]
    }
   ],
   "source": [
    "# Set move limits\n",
    "down = 0\n",
    "up = 38\n",
    "btarr = bytearray([0x05, down, up])\n",
    "btarr = padding(btarr)\n",
    "print(btarr)\n",
    "\n",
    "ser.write(btarr)\n",
    "string = ser.read(100)\n",
    "print(string)\n",
    "# if len(string) != 0:\n",
    "#     print(struct.unpack('bbbb', string))"
   ]
  },
  {
   "cell_type": "code",
   "execution_count": 1394,
   "metadata": {},
   "outputs": [
    {
     "name": "stdout",
     "output_type": "stream",
     "text": [
      "bytearray(b'\\x06N \\x05\\xdc\\x00\\x00\\x00')\n",
      "b'OK\\x00'\n"
     ]
    }
   ],
   "source": [
    "# Start breathing\n",
    "speed = 20000\n",
    "acceleration = 1500\n",
    "\n",
    "btarr = bytearray([0x06, speed // 256, speed % 256, acceleration // 256, acceleration % 256])\n",
    "btarr = padding(btarr)\n",
    "print(btarr)\n",
    "\n",
    "ser.write(btarr)\n",
    "string = ser.read(100)\n",
    "print(string)\n",
    "# if len(string) != 0:\n",
    "#     print(struct.unpack('bbbb', string))"
   ]
  },
  {
   "cell_type": "code",
   "execution_count": 1395,
   "metadata": {},
   "outputs": [
    {
     "name": "stdout",
     "output_type": "stream",
     "text": [
      "bytearray(b'\\x07\\x00\\x00\\x00\\x00\\x00\\x00\\x00')\n",
      "b'OK\\x00'\n"
     ]
    }
   ],
   "source": [
    "# Stop breathing\n",
    "btarr = bytearray([0x07])\n",
    "btarr = padding(btarr)\n",
    "print(btarr)\n",
    "\n",
    "ser.write(btarr)\n",
    "string = ser.read(100)\n",
    "print(string)"
   ]
  },
  {
   "cell_type": "code",
   "execution_count": null,
   "metadata": {},
   "outputs": [],
   "source": [
    "# Reset alarm\n",
    "btarr = bytearray([0x08])\n",
    "btarr = padding(btarr)\n",
    "print(btarr)\n",
    "\n",
    "ser.write(btarr)\n",
    "string = ser.read(100)\n",
    "print(string)"
   ]
  },
  {
   "cell_type": "code",
   "execution_count": 1375,
   "metadata": {},
   "outputs": [
    {
     "name": "stdout",
     "output_type": "stream",
     "text": [
      "b'\\x02\\x08'\n",
      "(2050,)\n"
     ]
    }
   ],
   "source": [
    "# Read ADC\n",
    "btarr = bytearray([0x10, 1])\n",
    "btarr = padding(btarr)\n",
    "\n",
    "ser.write(btarr)\n",
    "string = ser.read(100)\n",
    "print(string)\n",
    "if len(string) != 0:\n",
    "    print(struct.unpack('H', string))"
   ]
  },
  {
   "cell_type": "code",
   "execution_count": 472,
   "metadata": {},
   "outputs": [
    {
     "name": "stdout",
     "output_type": "stream",
     "text": [
      "(0, 0)\n",
      "(0, 0)\n",
      "(0, 0)\n",
      "(0, 0)\n",
      "(0, 0)\n",
      "(0, 0)\n",
      "(0, 0)\n",
      "(0, 0)\n",
      "(0, 0)\n",
      "(0, 0)\n"
     ]
    },
    {
     "ename": "error",
     "evalue": "unpack requires a bytes object of length 2",
     "output_type": "error",
     "traceback": [
      "\u001b[0;31m---------------------------------------------------------------------------\u001b[0m",
      "\u001b[0;31merror\u001b[0m                                     Traceback (most recent call last)",
      "\u001b[0;32m<ipython-input-472-cf054197112b>\u001b[0m in \u001b[0;36m<module>\u001b[0;34m\u001b[0m\n\u001b[1;32m      8\u001b[0m     \u001b[0mstring\u001b[0m \u001b[0;34m=\u001b[0m \u001b[0mser\u001b[0m\u001b[0;34m.\u001b[0m\u001b[0mread\u001b[0m\u001b[0;34m(\u001b[0m\u001b[0;36m100\u001b[0m\u001b[0;34m)\u001b[0m\u001b[0;34m\u001b[0m\u001b[0m\n\u001b[1;32m      9\u001b[0m     \u001b[0;32mif\u001b[0m \u001b[0mlen\u001b[0m\u001b[0;34m(\u001b[0m\u001b[0mstring\u001b[0m\u001b[0;34m)\u001b[0m \u001b[0;34m!=\u001b[0m \u001b[0;36m0\u001b[0m\u001b[0;34m:\u001b[0m\u001b[0;34m\u001b[0m\u001b[0m\n\u001b[0;32m---> 10\u001b[0;31m         \u001b[0mprint\u001b[0m\u001b[0;34m(\u001b[0m\u001b[0mstruct\u001b[0m\u001b[0;34m.\u001b[0m\u001b[0munpack\u001b[0m\u001b[0;34m(\u001b[0m\u001b[0;34m'bb'\u001b[0m\u001b[0;34m,\u001b[0m \u001b[0mstring\u001b[0m\u001b[0;34m)\u001b[0m\u001b[0;34m)\u001b[0m\u001b[0;34m\u001b[0m\u001b[0m\n\u001b[0m",
      "\u001b[0;31merror\u001b[0m: unpack requires a bytes object of length 2"
     ]
    }
   ],
   "source": [
    "while 1:\n",
    "    # Read ADC\n",
    "    btarr = bytearray([0x10, 1])\n",
    "    btarr = padding(btarr)\n",
    "#     print(btarr)\n",
    "\n",
    "    ser.write(btarr)\n",
    "    string = ser.read(100)\n",
    "    if len(string) != 0:\n",
    "        print(struct.unpack('bb', string))"
   ]
  },
  {
   "cell_type": "code",
   "execution_count": 445,
   "metadata": {},
   "outputs": [
    {
     "name": "stdout",
     "output_type": "stream",
     "text": [
      "bytearray(b'\\x01\\x02\\x03\\x00\\x00\\x00\\x00\\x00')\n",
      "b'\\x02\\x03\\x00\\x00'\n"
     ]
    }
   ],
   "source": [
    "#ECHO\n",
    "btarr = bytearray([0x1, 2, 3])\n",
    "btarr = padding(btarr)\n",
    "print(btarr)\n",
    "\n",
    "ser.write(btarr)\n",
    "string = ser.read(100)\n",
    "print(string)"
   ]
  },
  {
   "cell_type": "code",
   "execution_count": null,
   "metadata": {},
   "outputs": [],
   "source": [
    "# set move limits\n",
    "down\n",
    "btarr = bytearray([0x04])\n",
    "btarr = padding(btarr)\n",
    "print(btarr)\n",
    "\n",
    "ser.write(btarr)\n",
    "string = ser.read(100)\n",
    "print(string)\n",
    "# if len(string) != 0:\n",
    "#     print(struct.unpack('bbbb', string))"
   ]
  },
  {
   "cell_type": "code",
   "execution_count": 122,
   "metadata": {},
   "outputs": [
    {
     "name": "stdout",
     "output_type": "stream",
     "text": [
      "bytearray(b'\\x03\\xe7\\x03\\x00\\x00\\x00\\x00\\x00')\n"
     ]
    }
   ],
   "source": [
    "# Set arr register\n",
    "btarr = bytearray([0x03])\n",
    "btarr.extend(bytearray(struct.pack(\"I\", 999)))\n",
    "btarr = padding(btarr)\n",
    "print(btarr)\n",
    "\n",
    "ser.write(btarr)\n",
    "string = ser.read(10)\n",
    "print(string)"
   ]
  },
  {
   "cell_type": "code",
   "execution_count": 182,
   "metadata": {},
   "outputs": [
    {
     "name": "stdout",
     "output_type": "stream",
     "text": [
      "bytearray(b'\\x04\\x00\\x00\\x00\\x00\\x00\\x00\\x00')\n",
      "b'OK\\x00'\n"
     ]
    }
   ],
   "source": [
    "# Set ccr register\n",
    "# 350 - close\n",
    "btarr = bytearray([0x04])\n",
    "btarr.extend(bytearray(struct.pack(\"I\", 0)))\n",
    "btarr = padding(btarr)\n",
    "print(btarr)\n",
    "\n",
    "ser.write(btarr)\n",
    "string = ser.read(3)\n",
    "print(string)"
   ]
  },
  {
   "cell_type": "code",
   "execution_count": 139,
   "metadata": {},
   "outputs": [
    {
     "data": {
      "text/plain": [
       "'0x3c'"
      ]
     },
     "execution_count": 139,
     "metadata": {},
     "output_type": "execute_result"
    }
   ],
   "source": [
    "hex(60)"
   ]
  },
  {
   "cell_type": "code",
   "execution_count": 191,
   "metadata": {},
   "outputs": [
    {
     "name": "stdout",
     "output_type": "stream",
     "text": [
      "74\n"
     ]
    },
    {
     "ename": "SerialException",
     "evalue": "Attempting to use a port that is not open",
     "output_type": "error",
     "traceback": [
      "\u001b[0;31m---------------------------------------------------------------------------\u001b[0m",
      "\u001b[0;31mSerialException\u001b[0m                           Traceback (most recent call last)",
      "\u001b[0;32m<ipython-input-191-7fbf696a2974>\u001b[0m in \u001b[0;36m<module>\u001b[0;34m\u001b[0m\n\u001b[1;32m      5\u001b[0m \u001b[0mprint\u001b[0m\u001b[0;34m(\u001b[0m\u001b[0mangle\u001b[0m\u001b[0;34m)\u001b[0m\u001b[0;34m\u001b[0m\u001b[0m\n\u001b[1;32m      6\u001b[0m \u001b[0;34m\u001b[0m\u001b[0m\n\u001b[0;32m----> 7\u001b[0;31m \u001b[0mser\u001b[0m\u001b[0;34m.\u001b[0m\u001b[0mwrite\u001b[0m\u001b[0;34m(\u001b[0m\u001b[0mbtarr\u001b[0m\u001b[0;34m)\u001b[0m\u001b[0;34m\u001b[0m\u001b[0m\n\u001b[0m\u001b[1;32m      8\u001b[0m \u001b[0mstring\u001b[0m \u001b[0;34m=\u001b[0m \u001b[0mser\u001b[0m\u001b[0;34m.\u001b[0m\u001b[0mread\u001b[0m\u001b[0;34m(\u001b[0m\u001b[0;36m100000\u001b[0m\u001b[0;34m)\u001b[0m\u001b[0;34m\u001b[0m\u001b[0m\n\u001b[1;32m      9\u001b[0m \u001b[0mprint\u001b[0m\u001b[0;34m(\u001b[0m\u001b[0mstring\u001b[0m\u001b[0;34m)\u001b[0m\u001b[0;34m\u001b[0m\u001b[0m\n",
      "\u001b[0;32m/Library/Frameworks/Python.framework/Versions/3.6/lib/python3.6/site-packages/serial/serialposix.py\u001b[0m in \u001b[0;36mwrite\u001b[0;34m(self, data)\u001b[0m\n\u001b[1;32m    529\u001b[0m         \u001b[0;34m\"\"\"Output the given byte string over the serial port.\"\"\"\u001b[0m\u001b[0;34m\u001b[0m\u001b[0m\n\u001b[1;32m    530\u001b[0m         \u001b[0;32mif\u001b[0m \u001b[0;32mnot\u001b[0m \u001b[0mself\u001b[0m\u001b[0;34m.\u001b[0m\u001b[0mis_open\u001b[0m\u001b[0;34m:\u001b[0m\u001b[0;34m\u001b[0m\u001b[0m\n\u001b[0;32m--> 531\u001b[0;31m             \u001b[0;32mraise\u001b[0m \u001b[0mportNotOpenError\u001b[0m\u001b[0;34m\u001b[0m\u001b[0m\n\u001b[0m\u001b[1;32m    532\u001b[0m         \u001b[0md\u001b[0m \u001b[0;34m=\u001b[0m \u001b[0mto_bytes\u001b[0m\u001b[0;34m(\u001b[0m\u001b[0mdata\u001b[0m\u001b[0;34m)\u001b[0m\u001b[0;34m\u001b[0m\u001b[0m\n\u001b[1;32m    533\u001b[0m         \u001b[0mtx_len\u001b[0m \u001b[0;34m=\u001b[0m \u001b[0mlength\u001b[0m \u001b[0;34m=\u001b[0m \u001b[0mlen\u001b[0m\u001b[0;34m(\u001b[0m\u001b[0md\u001b[0m\u001b[0;34m)\u001b[0m\u001b[0;34m\u001b[0m\u001b[0m\n",
      "\u001b[0;31mSerialException\u001b[0m: Attempting to use a port that is not open"
     ]
    }
   ],
   "source": [
    "# Set angle\n",
    "angle = 74\n",
    "btarr = bytearray([0x05, 0x01, angle])\n",
    "btarr = padding(btarr)\n",
    "print(angle)\n",
    "\n",
    "ser.write(btarr)\n",
    "string = ser.read(100000)\n",
    "print(string)"
   ]
  },
  {
   "cell_type": "code",
   "execution_count": 104,
   "metadata": {},
   "outputs": [
    {
     "name": "stdout",
     "output_type": "stream",
     "text": [
      "bytearray(b'\\x06\\x01\\x00\\x00\\x00\\x00\\x00\\x00')\n",
      "(0,)\n"
     ]
    }
   ],
   "source": [
    "# Read angle\n",
    "btarr = bytearray([0x06, 0x01])\n",
    "btarr = padding(btarr)\n",
    "print(btarr)\n",
    "angle = 0\n",
    "\n",
    "ser.write(btarr)\n",
    "ser.reset_output_buffer()\n",
    "string = ser.read(1)\n",
    "if len(string) != 0:\n",
    "    print(struct.unpack('b', string))\n"
   ]
  },
  {
   "cell_type": "code",
   "execution_count": 26,
   "metadata": {},
   "outputs": [
    {
     "name": "stdout",
     "output_type": "stream",
     "text": [
      "b''\n"
     ]
    }
   ],
   "source": [
    "# SET RTC\n",
    "currentDT = datetime.datetime.now()\n",
    "year_l = currentDT.year & 0xff\n",
    "year_h = (currentDT.year >> 8) & 0xff\n",
    "ser.write(bytearray([0x02, year_l, year_h, currentDT.month, currentDT.day,\n",
    "                     currentDT.hour, currentDT.minute, currentDT.second]))\n",
    "string = ser.read(10)\n",
    "print(string)"
   ]
  },
  {
   "cell_type": "code",
   "execution_count": 906,
   "metadata": {},
   "outputs": [
    {
     "name": "stdout",
     "output_type": "stream",
     "text": [
      "b'\\n'\n"
     ]
    }
   ],
   "source": [
    "print(string)"
   ]
  },
  {
   "cell_type": "code",
   "execution_count": 196,
   "metadata": {},
   "outputs": [],
   "source": [
    "ser.close()"
   ]
  },
  {
   "cell_type": "code",
   "execution_count": null,
   "metadata": {},
   "outputs": [],
   "source": []
  },
  {
   "cell_type": "code",
   "execution_count": 18,
   "metadata": {},
   "outputs": [
    {
     "ename": "NameError",
     "evalue": "name 'currentDT' is not defined",
     "output_type": "error",
     "traceback": [
      "\u001b[0;31m---------------------------------------------------------------------------\u001b[0m",
      "\u001b[0;31mNameError\u001b[0m                                 Traceback (most recent call last)",
      "\u001b[0;32m<ipython-input-18-cb131c5fcdca>\u001b[0m in \u001b[0;36m<module>\u001b[0;34m\u001b[0m\n\u001b[0;32m----> 1\u001b[0;31m \u001b[0mprint\u001b[0m\u001b[0;34m(\u001b[0m\u001b[0mcurrentDT\u001b[0m\u001b[0;34m)\u001b[0m\u001b[0;34m\u001b[0m\u001b[0m\n\u001b[0m",
      "\u001b[0;31mNameError\u001b[0m: name 'currentDT' is not defined"
     ]
    }
   ],
   "source": [
    "print(currentDT)"
   ]
  }
 ],
 "metadata": {
  "kernelspec": {
   "display_name": "Python 3",
   "language": "python",
   "name": "python3"
  },
  "language_info": {
   "codemirror_mode": {
    "name": "ipython",
    "version": 3
   },
   "file_extension": ".py",
   "mimetype": "text/x-python",
   "name": "python",
   "nbconvert_exporter": "python",
   "pygments_lexer": "ipython3",
   "version": "3.6.1"
  }
 },
 "nbformat": 4,
 "nbformat_minor": 2
}
